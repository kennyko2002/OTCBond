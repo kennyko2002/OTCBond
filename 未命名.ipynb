{
 "cells": [
  {
   "cell_type": "code",
   "execution_count": 1,
   "metadata": {},
   "outputs": [
    {
     "name": "stdout",
     "output_type": "stream",
     "text": [
      "no data20210210\n",
      "no data20210210\n",
      "no gov list to retrived20210210\n",
      "no data20210210\n",
      "no data20210210\n"
     ]
    },
    {
     "ename": "FileNotFoundError",
     "evalue": "[Errno 2] No such file or directory: 'demofile.txt'",
     "output_type": "error",
     "traceback": [
      "\u001b[0;31m---------------------------------------------------------------------------\u001b[0m",
      "\u001b[0;31mFileNotFoundError\u001b[0m                         Traceback (most recent call last)",
      "\u001b[0;32m<ipython-input-1-6559e5ccbce4>\u001b[0m in \u001b[0;36m<module>\u001b[0;34m\u001b[0m\n\u001b[1;32m     76\u001b[0m \u001b[0;34m\u001b[0m\u001b[0m\n\u001b[1;32m     77\u001b[0m \u001b[0murls\u001b[0m\u001b[0;34m=\u001b[0m\u001b[0;34m[\u001b[0m\u001b[0;34m'https://www.tpex.org.tw/web/bond/publish/corporate_bond_search/memo_professional.php?l=zh-tw'\u001b[0m\u001b[0;34m,\u001b[0m\u001b[0;34m'https://www.tpex.org.tw/web/bond/publish/corporate_bond_search/memo.php?l=zh-tw'\u001b[0m\u001b[0;34m]\u001b[0m\u001b[0;34m\u001b[0m\u001b[0;34m\u001b[0m\u001b[0m\n\u001b[0;32m---> 78\u001b[0;31m \u001b[0mos\u001b[0m\u001b[0;34m.\u001b[0m\u001b[0mremove\u001b[0m\u001b[0;34m(\u001b[0m\u001b[0;34m\"demofile.txt\"\u001b[0m\u001b[0;34m)\u001b[0m\u001b[0;34m\u001b[0m\u001b[0;34m\u001b[0m\u001b[0m\n\u001b[0m\u001b[1;32m     79\u001b[0m \u001b[0;32mfor\u001b[0m \u001b[0murl\u001b[0m \u001b[0;32min\u001b[0m \u001b[0murls\u001b[0m\u001b[0;34m:\u001b[0m\u001b[0;34m\u001b[0m\u001b[0;34m\u001b[0m\u001b[0m\n\u001b[1;32m     80\u001b[0m   \u001b[0mresponse\u001b[0m \u001b[0;34m=\u001b[0m \u001b[0murllib\u001b[0m\u001b[0;34m.\u001b[0m\u001b[0mrequest\u001b[0m\u001b[0;34m.\u001b[0m\u001b[0murlopen\u001b[0m\u001b[0;34m(\u001b[0m\u001b[0murl\u001b[0m\u001b[0;34m)\u001b[0m\u001b[0;34m\u001b[0m\u001b[0;34m\u001b[0m\u001b[0m\n",
      "\u001b[0;31mFileNotFoundError\u001b[0m: [Errno 2] No such file or directory: 'demofile.txt'"
     ]
    }
   ],
   "source": [
    "import datetime\n",
    "import pandas as pd\n",
    "import sys\n",
    "from tabula import read_pdf\n",
    "import numpy as np\n",
    "import urllib.request\n",
    "import os\n",
    "from bs4 import BeautifulSoup\n",
    "record=datetime.date.today()-datetime.timedelta(1)\n",
    "#等殖\n",
    "url='https://www.tpex.org.tw/storage/bond_zone/tradeinfo/govbond//' + record.strftime(\"%Y\") + '/'+ record.strftime(\"%Y%m\") + '/BDdys01a.'+ record.strftime(\"%Y%m%d\") +'-C.xls'\n",
    "try:\n",
    "  x=pd.read_excel(url,skiprows=4,header=None,usecols=[0,1,2,3,9,11,15],names=['ID','Name','Duration','TimeToMaturity','High','Average','Volume'])\n",
    "  y=x[x.Name.notna()]\n",
    "  y['recorddate']=record\n",
    "  y.to_csv('twbond',mode='a',index=False,header=False)\n",
    "except:\n",
    "  print(\"no data\"+record.strftime(\"%Y%m%d\"))\n",
    "#處所\n",
    "url='https://www.tpex.org.tw/storage/bond_zone/tradeinfo/govbond//' + record.strftime(\"%Y\") + '/'+ record.strftime(\"%Y%m\") + '/BDdcs001.'+ record.strftime(\"%Y%m%d\") +'-C.xls'\n",
    "try:\n",
    "  x=pd.read_excel(url,skiprows=4,header=None,usecols=[0,1,3,4,8,10,13],names=['ID','Name','Duration','TimeToMaturity','High','Average','Volume'])\n",
    "  y=x[x.Name.notna()]\n",
    "  y['recorddate']=record\n",
    "  y['Volume']=y['Volume']/100000000\n",
    "  y.to_csv('twbond',mode='a',index=False,header=False)\n",
    "except:\n",
    "  print(\"no data\"+record.strftime(\"%Y%m%d\"))\n",
    "\n",
    "\n",
    "#清單\n",
    "url='https://www.tpex.org.tw/storage/bond_zone/tradeinfo/govbond//' + record.strftime(\"%Y\") + '/'+ record.strftime(\"%Y%m\") + '/BDdys503.'+ record.strftime(\"%Y%m%d\") +'-C.xls'  \n",
    "try:\n",
    "  x=pd.read_excel(url,skiprows=3,header=None,usecols=[0,1,2,3,4,5,13],names=['ID','Name','Maturity','TimeToMaturity','Duration','Coupon','Yield'])\n",
    "  y=x[x.Name.notna()]\n",
    "  y['recorddate']=record\n",
    "  y.to_csv('twgovbondlist',mode='w',index=False)\n",
    "except:\n",
    "  print(\"no gov list to retrived\"+record.strftime(\"%Y%m%d\"))\n",
    "\n",
    "url='https://nweb.tpex.org.tw/bbg/bndcrvpx_'+ record.strftime(\"%Y%m%d\") +'.pdf'\n",
    "try:\n",
    "  df = read_pdf(url,multiple_tables=False,pages = 'all',pandas_options={'header': None})\n",
    "  df=pd.DataFrame(df[0])\n",
    "  df.columns=['ID','Name','TimeToMaturity','CouponRating','Price','Yield']\n",
    "  df['Coupon']=df['CouponRating'].map(lambda x :x.split(' ')[0])\n",
    "  df['Rating']=df['CouponRating'].map(lambda x :x.split(' ')[1])\n",
    "\n",
    "  df.to_csv('twcorpbondlist',mode='w',index=False,columns=['ID','Name','TimeToMaturity','Yield','Rating'])\n",
    "except:\n",
    "  print(\"no data\"+record.strftime(\"%Y%m%d\"))\n",
    "#phi gov\n",
    "url='https://www.pds.com.ph/wp-content/uploads/'+record.strftime(\"%Y\")+'/'+record.strftime(\"%m\")+'/FI-Board-Report-as-of-'+record.strftime(\"%B\")+'-'+record.strftime(\"%d\")+'-'+record.strftime(\"%Y\")+'.pdf'\n",
    "try:\n",
    "  df = read_pdf(url,multiple_tables=False,pages = 'all')\n",
    "  df=pd.DataFrame(df[0])\n",
    "  df['recorddate']=record\n",
    "  df=df[['Global ID', 'Local ID', 'Domestic No.', 'CPN','YRS','Maturity', 'D. Vol (MM)', 'Last Yield','recorddate']]\n",
    "  df=df.dropna(subset=['Last Yield'])\n",
    "  df=df[df['Global ID']!='Global ID']\n",
    "  df.to_csv('phigovt',mode='a',index=False,header=None)\n",
    "except:\n",
    "  print(\"no data\"+record.strftime(\"%Y%m%d\"))\n",
    "#phi corp\n",
    "url='https://www.pds.com.ph/wp-content/uploads/'+record.strftime(\"%Y\")+'/'+record.strftime(\"%m\")+'/corp_board_summary_'+record.strftime(\"%Y\")+'-'+record.strftime(\"%m\")+'-'+record.strftime(\"%d\")+'.csv'\n",
    "try:\n",
    "  df=pd.read_csv(url)\n",
    "  df['recorddate']=record    \n",
    "  df=df[['Global ID', 'Local ID', 'Domestic No.', 'Coupon Rate','YTM','Maturity', 'D.Vol(MM)', 'Last Yield','recorddate']]\n",
    "  df.replace('-',np.NaN,inplace=True)\n",
    "  df=df.dropna(subset=['Last Yield'])    \n",
    "  df.to_csv('phicorp',mode='a',index=False,header=None) \n",
    "except:\n",
    "  print(\"no corp data\"+record.strftime(\"%Y%m%d\"))\n",
    "\n",
    "\n",
    "urls=['https://www.tpex.org.tw/web/bond/publish/corporate_bond_search/memo_professional.php?l=zh-tw','https://www.tpex.org.tw/web/bond/publish/corporate_bond_search/memo.php?l=zh-tw']\n",
    "for url in urls:\n",
    "  response = urllib.request.urlopen(url)\n",
    "  html = response.read()\n",
    "  sp = BeautifulSoup(html) \n",
    "  tbls=sp.find_all('table')\n",
    "  x=tbls[0].find_all('td')\n",
    "  y=[]\n",
    "  for s in x : \n",
    "    y.append(s.text)\n",
    "  y_sublists = [y[i:i+9] for i in range(0, len(y), 9)]\n",
    "  yy=pd.DataFrame(y_sublists )\n",
    "  yy=yy[[0,1,2]]\n",
    "  yy.to_csv('corplistpro',mode='a',index=False,header=None)\n",
    "\n",
    "#phi issur list\n",
    "url='https://www.pds.com.ph/wp-content/uploads/'+record.strftime(\"%Y\")+'/'+record.strftime(\"%m\")+'/Listed-Securities-as-of-'+record.strftime(\"%b\")+'-'+record.strftime(\"%d\")+'-'+record.strftime(\"%Y\")+'.pdf'\n",
    "try:\n",
    "  df = read_pdf(url,multiple_tables=False,pages = 'all',lattice=True)\n",
    "  df=pd.DataFrame(df[0])\n",
    "  df['recorddate']=record\n",
    "  df=df.iloc[5:,[0,2]]\n",
    "  df=df.dropna()\n",
    "  df2=df.replace({r'\\r': ''}, regex=True)\n",
    "  df2.rename(columns={'Unnamed: 0':'Corpname','Unnamed: 2':'key'},inplace=True)\n",
    "  df2['key']=df2['key'].str.replace(' ','')\n",
    "  df2.to_csv('phitest',header=None)\n",
    "except:\n",
    "  print(\"no phi issur list\"+record.strftime(\"%Y%m%d\"))\n"
   ]
  },
  {
   "cell_type": "code",
   "execution_count": 2,
   "metadata": {},
   "outputs": [
    {
     "name": "stderr",
     "output_type": "stream",
     "text": [
      "2021-03-03 21:17:09.892 WARNING root: \n",
      "  \u001b[33m\u001b[1mWarning:\u001b[0m to view this Streamlit app on a browser, run it with the following\n",
      "  command:\n",
      "\n",
      "    streamlit run /home/kunyi/kunyicode/lib/python3.8/site-packages/ipykernel_launcher.py [ARGUMENTS]\n"
     ]
    }
   ],
   "source": [
    "import datetime\n",
    "import pandas as pd\n",
    "import sys\n",
    "import streamlit as st\n",
    "import numpy as np\n",
    "from matplotlib import pyplot\n",
    "from matplotlib.font_manager import FontProperties\n",
    "showtype = st.sidebar.radio('Present in ?', ('Table', 'Dataframe'))\n",
    "country = st.sidebar.radio('Which country?', ('Taiwan', 'Philippines'))\n",
    "issuername = ''\n",
    "start_date = 30\n",
    "first_record_date = np.datetime64(\n",
    "    (datetime.date.today()-datetime.timedelta(start_date)))\n",
    "pd.options.display.float_format = '{:,.3f}'.format\n",
    "\n",
    "pyplot.rcParams['font.sans-serif'] = ['Microsoft JhengHei']"
   ]
  },
  {
   "cell_type": "code",
   "execution_count": 4,
   "metadata": {},
   "outputs": [],
   "source": [
    "    bondfromcsv = st.cache(pd.read_csv)('https://raw.githubusercontent.com/kennyko2002/OTCBond/master/twbond', names=[\n",
    "        'ID', 'Name', 'Duration', 'MaturityYear', 'High', 'YTM', 'VolumeE', 'Trade_date'], thousands=r',', parse_dates=['Trade_date'], infer_datetime_format='%Y-%M-%D')\n",
    "    bondfromcsv = bondfromcsv.astype({\"ID\": str, \"Name\": str})\n",
    "    twgovbondlist = st.cache(pd.read_csv)('twgovbondlist')\n",
    "    twcorpbondlist = st.cache(pd.read_csv)('twcorpbondlist')\n",
    "    corplistpro = st.cache(pd.read_csv)(\n",
    "        'corplistpro', names=['ID', 'Ticker', 'FullName'])\n",
    "\n",
    "    bondfromcsv = pd.merge(bondfromcsv, twcorpbondlist, how='left', on='ID')\n",
    "    bondfromcsv = pd.merge(bondfromcsv, corplistpro, how='left', on='ID')\n",
    "    bondfromcsv = bondfromcsv[['ID', 'Name_x', 'Rating', 'Duration',\n",
    "                               'MaturityYear', 'YTM', 'VolumeE', 'Trade_date', 'FullName']]\n",
    "    bondfromcsv['VolumeE'] = bondfromcsv['VolumeE'].round(decimals=0)\n",
    "    # st.write(bondfromcsv.dtypes)\n",
    "    # bondfromcsv=bondfromcsv.fillna('twAAA')\n",
    "    bondfromcsv.Rating.fillna('twAAA', inplace=True)\n",
    "    bondfromcsv.rename(columns={\"Name_x\": \"Name\"}, inplace=True)\n",
    "    bondfromcsv.sort_values(by='Trade_date', ascending=False, inplace=True)"
   ]
  },
  {
   "cell_type": "code",
   "execution_count": 6,
   "metadata": {},
   "outputs": [
    {
     "data": {
      "text/plain": [
       "array(['台灣中油股份有限公司', '臺灣新光商業銀行股份有限公司', '台灣積體電路製造股份有限公司', '台灣電力股份有限公司',\n",
       "       '中國航運股份有限公司', '亞洲水泥股份有限公司', '興富發建設股份有限公司', '新光合成纖維股份有限公司',\n",
       "       '遠傳電信股份有限公司', '奇美實業股份有限公司', '國泰世華商業銀行股份有限公司', '和碩聯合科技股份有限公司',\n",
       "       '永豐金融控股股份有限公司', '中國信託金融控股股份有限公司', '永豐商業銀行股份有限公司', '元大商業銀行股份有限公司',\n",
       "       '合作金庫金融控股股份有限公司', '兆豐金融控股股份有限公司', '中租迪和股份有限公司', '裕隆汽車製造股份有限公司',\n",
       "       '凱基商業銀行股份有限公司', '台灣塑膠工業股份有限公司', '中華電信股份有限公司', '遠東新世紀股份有限公司',\n",
       "       '日月光半導體製造股份有限公司', '裕融企業股份有限公司', '日勝生活科技股份有限公司',\n",
       "       '法商法國巴黎銀行股份有限公司台北分公司', '萬海航運股份有限公司', '中國輸出入銀行', '鴻海精密工業股份有限公司',\n",
       "       '統一企業股份有限公司', '台塑石化股份有限公司', '台灣化學纖維股份有限公司', '兆豐國際商業銀行股份有限公司',\n",
       "       '台灣汽電共生股份有限公司', '長春石油化學股份有限公司', '正新橡膠工業股份有限公司', '欣興電子股份有限公司',\n",
       "       '正德海運股份有限公司', '森寶開發股份有限公司', '長興材料工業股份有限公司', '聯華電子股份有限公司',\n",
       "       '元大金融控股股份有限公司', '士林開發股份有限公司', '中華開發金融控股股份有限公司', '欣陸投資控股股份有限公司',\n",
       "       '和潤企業股份有限公司', '遠鼎投資股份有限公司', '南亞塑膠工業股份有限公司', '台中商業銀行股份有限公司',\n",
       "       '聯上開發股份有限公司', '日月光投資控股股份有限公司', '中國鋼鐵股份有限公司', '華南金融控股股份有限公司',\n",
       "       '台灣大哥大股份有限公司', '富邦金融控股股份有限公司', '匯豐(台灣)商業銀行股份有限公司', '中國人壽保險股份有限公司',\n",
       "       '第一商業銀行股份有限公司', '彰化商業銀行股份有限公司', '全國農業金庫股份有限公司', '大慶證券股份有限公司',\n",
       "       '新光金融控股股份有限公司', '力麒建設股份有限公司', '台灣電力', '華南永昌綜合證券股份有限公司',\n",
       "       '愛山林建設開發股份有限公司', '國泰金融控股股份有限公司', '大亞電線電纜股份有限公司', '國泰人壽保險股份有限公司',\n",
       "       '中鼎工程股份有限公司', '陽信商業銀行股份有限公司', '遠東國際商業銀行股份有限公司', '台灣水泥股份有限公司',\n",
       "       '鄉林建設事業股份有限公司', '亞昕國際開發股份有限公司', '玉山商業銀行股份有限公司', '合作金庫商業銀行股份有限公司',\n",
       "       '中磊電子股份有限公司', '緯穎科技服務股份有限公司', '玉山金融控股股份有限公司', '元大證券股份有限公司',\n",
       "       '中華航空股份有限公司', '台新金融控股股份有限公司'], dtype=object)"
      ]
     },
     "execution_count": 6,
     "metadata": {},
     "output_type": "execute_result"
    }
   ],
   "source": [
    "bondfromcsv.FullName.unique()[1:]"
   ]
  }
 ],
 "metadata": {
  "kernelspec": {
   "display_name": "Python 3",
   "language": "python",
   "name": "python3"
  },
  "language_info": {
   "codemirror_mode": {
    "name": "ipython",
    "version": 3
   },
   "file_extension": ".py",
   "mimetype": "text/x-python",
   "name": "python",
   "nbconvert_exporter": "python",
   "pygments_lexer": "ipython3",
   "version": "3.8.5"
  }
 },
 "nbformat": 4,
 "nbformat_minor": 4
}
